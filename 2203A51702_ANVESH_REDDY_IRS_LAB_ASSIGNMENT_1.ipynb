{
  "nbformat": 4,
  "nbformat_minor": 0,
  "metadata": {
    "colab": {
      "provenance": [],
      "authorship_tag": "ABX9TyPDDnY/kOrpV5YmKIKi3Q3E",
      "include_colab_link": true
    },
    "kernelspec": {
      "name": "python3",
      "display_name": "Python 3"
    },
    "language_info": {
      "name": "python"
    }
  },
  "cells": [
    {
      "cell_type": "markdown",
      "metadata": {
        "id": "view-in-github",
        "colab_type": "text"
      },
      "source": [
        "<a href=\"https://colab.research.google.com/github/anvesh2627/2203A51702_IRS_LAB-ASSIGNMENTS/blob/main/2203A51702_ANVESH_REDDY_IRS_LAB_ASSIGNMENT_1.ipynb\" target=\"_parent\"><img src=\"https://colab.research.google.com/assets/colab-badge.svg\" alt=\"Open In Colab\"/></a>"
      ]
    },
    {
      "cell_type": "code",
      "execution_count": 4,
      "metadata": {
        "colab": {
          "base_uri": "https://localhost:8080/"
        },
        "id": "Hb9xnfntBlLF",
        "outputId": "763d9121-c535-415f-ddc7-5c04c5ea1e90"
      },
      "outputs": [
        {
          "output_type": "stream",
          "name": "stdout",
          "text": [
            "Tokenization: ['natural', 'language', 'processing', 'nlp', 'is', 'a', 'fascinating', 'field', 'of', 'artificial', 'intelligence', 'it', 'enables', 'computers', 'to', 'understand', 'interpret', 'and', 'generate', 'human', 'language', 'nltk', 'is', 'a', 'powerful', 'python', 'library', 'used', 'for', 'text', 'preprocessing', 'tokenization', 'and', 'sentiment', 'analysis', 'in', 'nlp', 'tasks']\n",
            "Eliminating Stopwords: ['natural', 'language', 'processing', 'nlp', 'fascinating', 'field', 'artificial', 'intelligence', 'enables', 'computers', 'understand', 'interpret', 'generate', 'human', 'language', 'nltk', 'powerful', 'python', 'library', 'used', 'text', 'preprocessing', 'tokenization', 'sentiment', 'analysis', 'nlp', 'tasks']\n",
            "After Changing to Lower Case and Removing Punctuation: natural language processing nlp is a fascinating field of artificial intelligence it enables computers to understand interpret and generate human language nltk is a powerful python library used for text preprocessing tokenization and sentiment analysis in nlp tasks\n"
          ]
        },
        {
          "output_type": "stream",
          "name": "stderr",
          "text": [
            "[nltk_data] Downloading package punkt to /root/nltk_data...\n",
            "[nltk_data]   Package punkt is already up-to-date!\n",
            "[nltk_data] Downloading package stopwords to /root/nltk_data...\n",
            "[nltk_data]   Package stopwords is already up-to-date!\n"
          ]
        }
      ],
      "source": [
        "import nltk\n",
        "import string\n",
        "from nltk.corpus import stopwords\n",
        "from nltk.tokenize import word_tokenize, sent_tokenize\n",
        "\n",
        "# Download required NLTK resources\n",
        "nltk.download('punkt')\n",
        "nltk.download('stopwords')\n",
        "\n",
        "def preprocess_text(text):\n",
        "    # Lowercasing\n",
        "    text = text.lower()\n",
        "\n",
        "    # Removing punctuation\n",
        "    text = text.translate(str.maketrans('', '', string.punctuation))\n",
        "\n",
        "    # Tokenizing sentences\n",
        "    sentences = sent_tokenize(text)\n",
        "\n",
        "    # Tokenizing words\n",
        "    words = word_tokenize(text)\n",
        "\n",
        "    # Removing stopwords\n",
        "    stop_words = set(stopwords.words('english'))\n",
        "    filtered_words = [word for word in words if word not in stop_words]\n",
        "\n",
        "    return {'tokenization': words, 'eliminating_stopwords': filtered_words, 'processed_text': text}\n",
        "\n",
        "# Sample text\n",
        "sample_text = \"Natural Language Processing (NLP) is a fascinating field of artificial intelligence. It enables computers to understand, interpret, and generate human language. NLTK is a powerful Python library used for text preprocessing, tokenization, and sentiment analysis in NLP tasks.\"\n",
        "\n",
        "# Preprocessing\n",
        "processed_text = preprocess_text(sample_text)\n",
        "\n",
        "# Output results\n",
        "print(\"Tokenization:\", processed_text['tokenization'])\n",
        "print(\"Eliminating Stopwords:\", processed_text['eliminating_stopwords'])\n",
        "print(\"After Changing to Lower Case and Removing Punctuation:\", processed_text['processed_text'])\n"
      ]
    }
  ]
}