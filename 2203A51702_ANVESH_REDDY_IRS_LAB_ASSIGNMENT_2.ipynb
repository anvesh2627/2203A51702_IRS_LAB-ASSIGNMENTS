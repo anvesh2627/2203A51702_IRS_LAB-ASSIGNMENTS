{
  "nbformat": 4,
  "nbformat_minor": 0,
  "metadata": {
    "colab": {
      "provenance": [],
      "authorship_tag": "ABX9TyNO66IzzR46YCkOLdWsuTtC",
      "include_colab_link": true
    },
    "kernelspec": {
      "name": "python3",
      "display_name": "Python 3"
    },
    "language_info": {
      "name": "python"
    }
  },
  "cells": [
    {
      "cell_type": "markdown",
      "metadata": {
        "id": "view-in-github",
        "colab_type": "text"
      },
      "source": [
        "<a href=\"https://colab.research.google.com/github/anvesh2627/2203A51702_IRS_LAB-ASSIGNMENTS/blob/main/2203A51702_ANVESH_REDDY_IRS_LAB_ASSIGNMENT_2.ipynb\" target=\"_parent\"><img src=\"https://colab.research.google.com/assets/colab-badge.svg\" alt=\"Open In Colab\"/></a>"
      ]
    },
    {
      "source": [
        "import nltk\n",
        "import string\n",
        "from nltk.corpus import stopwords, wordnet\n",
        "from nltk.tokenize import word_tokenize\n",
        "from nltk.stem import PorterStemmer, WordNetLemmatizer\n",
        "\n",
        "# Download required NLTK resources\n",
        "nltk.download('punkt')\n",
        "nltk.download('stopwords')\n",
        "nltk.download('wordnet')\n",
        "nltk.download('punkt_tab') # Download the missing 'punkt_tab' resource\n",
        "\n",
        "# Sample text\n",
        "sample_text = \"Languages connect people worldwide. English, Spanish, Mandarin, and French are widely spoken. Learning new languages enhances communication, culture, and opportunities.\"\n",
        "\n",
        "# Lowercasing and removing punctuation\n",
        "text = sample_text.lower()\n",
        "text = text.translate(str.maketrans('', '', string.punctuation))\n",
        "\n",
        "# Tokenization\n",
        "words = word_tokenize(text)\n",
        "\n",
        "# Stemming using Porter Stemmer\n",
        "stemmer = PorterStemmer()\n",
        "stemmed_words = [stemmer.stem(word) for word in words]\n",
        "\n",
        "# Lemmatization using WordNet Lemmatizer\n",
        "lemmatizer = WordNetLemmatizer()\n",
        "lemmatized_words = [lemmatizer.lemmatize(word) for word in words]\n",
        "\n",
        "# Output results\n",
        "print(\"Tokenization:\", words)\n",
        "print(\"Stemming:\", stemmed_words)\n",
        "print(\"Lemmatization:\", lemmatized_words)"
      ],
      "cell_type": "code",
      "metadata": {
        "colab": {
          "base_uri": "https://localhost:8080/"
        },
        "id": "c5O5fSBUIegO",
        "outputId": "bfab8e09-90d5-4e3b-b55f-f42f0947c575"
      },
      "execution_count": 3,
      "outputs": [
        {
          "output_type": "stream",
          "name": "stdout",
          "text": [
            "Tokenization: ['languages', 'connect', 'people', 'worldwide', 'english', 'spanish', 'mandarin', 'and', 'french', 'are', 'widely', 'spoken', 'learning', 'new', 'languages', 'enhances', 'communication', 'culture', 'and', 'opportunities']\n",
            "Stemming: ['languag', 'connect', 'peopl', 'worldwid', 'english', 'spanish', 'mandarin', 'and', 'french', 'are', 'wide', 'spoken', 'learn', 'new', 'languag', 'enhanc', 'commun', 'cultur', 'and', 'opportun']\n",
            "Lemmatization: ['language', 'connect', 'people', 'worldwide', 'english', 'spanish', 'mandarin', 'and', 'french', 'are', 'widely', 'spoken', 'learning', 'new', 'language', 'enhances', 'communication', 'culture', 'and', 'opportunity']\n"
          ]
        },
        {
          "output_type": "stream",
          "name": "stderr",
          "text": [
            "[nltk_data] Downloading package punkt to /root/nltk_data...\n",
            "[nltk_data]   Package punkt is already up-to-date!\n",
            "[nltk_data] Downloading package stopwords to /root/nltk_data...\n",
            "[nltk_data]   Package stopwords is already up-to-date!\n",
            "[nltk_data] Downloading package wordnet to /root/nltk_data...\n",
            "[nltk_data]   Package wordnet is already up-to-date!\n",
            "[nltk_data] Downloading package punkt_tab to /root/nltk_data...\n",
            "[nltk_data]   Package punkt_tab is already up-to-date!\n"
          ]
        }
      ]
    }
  ]
}